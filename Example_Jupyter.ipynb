{
 "cells": [
  {
   "cell_type": "code",
   "execution_count": 1,
   "id": "exempt-residence",
   "metadata": {},
   "outputs": [],
   "source": [
    "import os \n",
    "import django\n",
    "django.setup()\n",
    "from django.db.models import Model\n",
    "from Exp_Main.models import ExpBase\n",
    "from Exp_Sub.models import ExpBase as ExpBase_sub\n",
    "from Lab_Misc import General\n",
    "from Lab_Misc import Load_Data"
   ]
  },
  {
   "cell_type": "code",
   "execution_count": null,
   "id": "prescribed-wallace",
   "metadata": {},
   "outputs": [],
   "source": [
    "ExpBase.objects.all()"
   ]
  }
 ],
 "metadata": {
  "kernelspec": {
   "display_name": "Python 3",
   "language": "python",
   "name": "python3"
  },
  "language_info": {
   "codemirror_mode": {
    "name": "ipython",
    "version": 3
   },
   "file_extension": ".py",
   "mimetype": "text/x-python",
   "name": "python",
   "nbconvert_exporter": "python",
   "pygments_lexer": "ipython3",
   "version": "3.9.1"
  }
 },
 "nbformat": 4,
 "nbformat_minor": 5
}
